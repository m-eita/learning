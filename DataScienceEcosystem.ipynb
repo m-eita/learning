{
 "cells": [
  {
   "cell_type": "code",
   "execution_count": 33,
   "id": "d9b6e0e8-4b2c-4fb6-a5e9-5639e82518f0",
   "metadata": {
    "tags": []
   },
   "outputs": [],
   "source": [
    "# Data Science Tools and Ecosystem\n",
    "# H1: Data Science Tools and Ecosystem"
   ]
  },
  {
   "cell_type": "markdown",
   "id": "f8a3b850-81a1-4cae-be90-89315107129b",
   "metadata": {
    "tags": []
   },
   "source": [
    "# Data Science Tools and Ecosystem Summarized\n",
    "___In this notebook, Data Science Tools and Ecosystem are summarized..___"
   ]
  },
  {
   "cell_type": "markdown",
   "id": "2bd821ba-01e7-4bff-9901-600ef6bbafa9",
   "metadata": {
    "tags": []
   },
   "source": [
    "# Popular languages that Data Scientists\n",
    "**Some of the popular languages that Data Scientists use are:**\n",
    "1. R\n",
    "2. Python\n"
   ]
  },
  {
   "cell_type": "markdown",
   "id": "eb25b074-d267-4ae9-a5d0-4c60797d9570",
   "metadata": {
    "tags": []
   },
   "source": [
    "# Commonly used libraries used by Data Scientists\n",
    "___Some of the commonly used libraries used by Data Scientists include:..___\n",
    "1. Sickit Learn\n",
    "2. Tensorflow"
   ]
  },
  {
   "cell_type": "markdown",
   "id": "81316e01-0b95-45e9-857e-7ebf67388c78",
   "metadata": {
    "tags": []
   },
   "source": [
    "# Data Science Tools\n",
    "\n",
    "|Data Science Tools|\n",
    "|-------------|\n",
    "|Hadoop|\n",
    "|Model Assets Exchange|\n",
    "|IBM Watson Studio|"
   ]
  },
  {
   "cell_type": "code",
   "execution_count": null,
   "id": "10bd755e-0f48-467a-86f2-966b5c86c807",
   "metadata": {},
   "outputs": [],
   "source": [
    "# Below are a few examples of evaluating arithmetic expressions in Python"
   ]
  },
  {
   "cell_type": "code",
   "execution_count": 27,
   "id": "aa6c064e-5118-40cc-8dcb-3698957e3d37",
   "metadata": {
    "tags": []
   },
   "outputs": [
    {
     "data": {
      "text/plain": [
       "17"
      ]
     },
     "execution_count": 27,
     "metadata": {},
     "output_type": "execute_result"
    }
   ],
   "source": [
    "# This a simple arithmetic expression to mutiply then add integers\n",
    "(3*4) + 5"
   ]
  },
  {
   "cell_type": "code",
   "execution_count": 28,
   "id": "256aa3f5-0ae4-457b-8faa-31f48a798d04",
   "metadata": {
    "tags": []
   },
   "outputs": [
    {
     "name": "stdout",
     "output_type": "stream",
     "text": [
      "3.3333333333333335\n"
     ]
    }
   ],
   "source": [
    "# This will convert 200 minutes to hours by diving by 60\n",
    "hours = 200/60\n",
    "print(hours)"
   ]
  },
  {
   "cell_type": "code",
   "execution_count": null,
   "id": "d8ed6717-3f14-4e8e-b7e6-331890777fe1",
   "metadata": {
    "tags": []
   },
   "outputs": [],
   "source": [
    "# Bold & UnOrdered List\n",
    "**Objectives:**\n",
    "___Popular languages for Data Science..___\n",
    "- Python\n",
    "- R\n",
    "- Java\n",
    "- C++"
   ]
  },
  {
   "cell_type": "code",
   "execution_count": null,
   "id": "e6351bb4-a7ed-4c83-b391-f700e3017c0b",
   "metadata": {},
   "outputs": [],
   "source": [
    "## H2: Author: MEITA"
   ]
  },
  {
   "cell_type": "code",
   "execution_count": null,
   "id": "1ae6f507-70d5-46f0-bee7-eac3ad088116",
   "metadata": {},
   "outputs": [],
   "source": []
  }
 ],
 "metadata": {
  "kernelspec": {
   "display_name": "Python",
   "language": "python",
   "name": "conda-env-python-py"
  },
  "language_info": {
   "codemirror_mode": {
    "name": "ipython",
    "version": 3
   },
   "file_extension": ".py",
   "mimetype": "text/x-python",
   "name": "python",
   "nbconvert_exporter": "python",
   "pygments_lexer": "ipython3",
   "version": "3.7.12"
  }
 },
 "nbformat": 4,
 "nbformat_minor": 5
}
